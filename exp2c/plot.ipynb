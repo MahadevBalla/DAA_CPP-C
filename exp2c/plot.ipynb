{
 "cells": [
  {
   "cell_type": "code",
   "execution_count": null,
   "metadata": {},
   "outputs": [
    {
     "name": "stderr",
     "output_type": "stream",
     "text": [
      "<>:7: SyntaxWarning: invalid escape sequence '\\s'\n",
      "<>:7: SyntaxWarning: invalid escape sequence '\\s'\n",
      "/tmp/ipykernel_6463/1808594975.py:7: SyntaxWarning: invalid escape sequence '\\s'\n",
      "  data = pd.read_csv('timing_results.txt', delimiter=\"\\s+\", engine='python')\n"
     ]
    }
   ],
   "source": [
    "import matplotlib.pyplot as plt\n",
    "import pandas as pd\n",
    "\n",
    "data = pd.read_csv('timing_results.txt', delim_whitespace=True, header=0)\n",
    "\n",
    "block_sizes = data['BlockSize']\n",
    "brute_force_times = data['BruteForce']\n",
    "divide_and_conquer_times = data['DivideandConquer']\n",
    "kadane_times = data[\"Kadane'sAlgorithm\"]\n",
    "\n",
    "plt.figure(figsize=(8, 6))\n",
    "plt.plot(block_sizes, brute_force_times, label='Brute Force', color='blue')\n",
    "plt.title('Brute Force Runtime')\n",
    "plt.xlabel('Block Size')\n",
    "plt.ylabel('Time (ms)')\n",
    "plt.grid(True)\n",
    "plt.legend()\n",
    "plt.show()"
   ]
  },
  {
   "cell_type": "code",
   "execution_count": null,
   "metadata": {},
   "outputs": [],
   "source": []
  }
 ],
 "metadata": {
  "kernelspec": {
   "display_name": "usr",
   "language": "python",
   "name": "python3"
  },
  "language_info": {
   "codemirror_mode": {
    "name": "ipython",
    "version": 3
   },
   "file_extension": ".py",
   "mimetype": "text/x-python",
   "name": "python",
   "nbconvert_exporter": "python",
   "pygments_lexer": "ipython3",
   "version": "3.12.3"
  }
 },
 "nbformat": 4,
 "nbformat_minor": 2
}
